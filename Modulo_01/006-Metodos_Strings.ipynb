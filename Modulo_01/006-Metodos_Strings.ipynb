{
 "cells": [
  {
   "cell_type": "markdown",
   "metadata": {},
   "source": [
    "# <center> Métodos e manipulação de String </center>\n",
    "Nesse cápitulo nós iremos ver como usar métodos prontos que o python disponibiliza para nós nós vimos alguns no notebook passado porém não chegamos a falar sobre eles aqui nós abordaremos mais ao fundo, e com esses métodos nós conseguiremos manipular strings em python:\n",
    "\n",
    "Iremos mostrar métodos de manipulação e seguiremos com exemplos de cada nas celulas a frente:\n",
    "\n",
    "- <b>len()</b>: Retorna o tamanho da string.\n",
    "- <b>capitalize()</b>: Retorna a string com a primeira letra maiúscula.\n",
    "- <b>count()</b>: Informa quantas vezes um caractere (ou uma se-quência de caracteres) aparece na string.\n",
    "- <b>startswith()</b>: Verifica se uma string inicia com uma determinada sequência.\n",
    "- <b>endswith()</b>: Verifica se uma string termina com uma determinada sequência.\n",
    "- <b>isalpha()</b>: Verifica se a string possui apenas conteúdo alfabéti-co.\n",
    "- <b>isalnum()</b>: Verifica se a string possui algum conteúdo alfanu-mérico (letra ou número).\n",
    "- <b>islower()</b>: Verifica se todas as letras de uma string são minús-culas.\n",
    "- <b>isupper()</b>: Verifica se todas as letras de uma string são maiús-culas.\n",
    "- <b>lower()</b>: Retorna uma cópia da string trocando todas as letras para minúsculo.\n",
    "- <b>upper()</b>: Retorna uma cópia da string trocando todas as letras para maiúsculo.\n",
    "- <b>swapcase()</b>: Inverte o conteúdo da string (Minúsculo / Maiúscu-lo).\n",
    "- <b>title()</b>: Converte para maiúsculo todas as primeiras letras de cada palavra da string.\n",
    "- <b>split()</b>: Transforma a string em uma lista, utilizando os es-paços como referência.\n",
    "- <b>replace(S1, S2)</b>: Substitui na string o trecho S1 pelo trecho S2.\n",
    "- <b>find()</b>: Retorna o índice da primeira ocorrência de um de-terminado caractere na string. Se o caractere não estiver na string retorna -1.\n",
    "- <b>ljust()</b>: Ajusta a string para um tamanho mínimo, acrescen-tando espaços à direita se necessário.\n",
    "- <b>rjust()</b>: Ajusta a string para um tamanho mínimo, acrescen-tando espaços à esquerda se necessário.\n",
    "- <b>center()</b> Ajusta a string para um tamanho mínimo, acrescen-tando espaços à esquerda e à direita, se necessário.\n",
    "- <b>lstrip()</b>: Remove todos os espaços em branco do lado esquer-do da string.\n",
    "- <b>rstrip()</b>: Remove todos os espaços em branco do lado direito da string.\n",
    "- <b>strip()</b>: Remove todos os espaços em branco da string.\n",
    "\n"
   ]
  },
  {
   "cell_type": "code",
   "execution_count": 2,
   "metadata": {},
   "outputs": [
    {
     "name": "stdout",
     "output_type": "stream",
     "text": [
      "ISTO É UMA STRING!\n",
      "ISTO É UMA STRING!\n"
     ]
    }
   ],
   "source": [
    "minha_string = 'Isto é uma string!'\n",
    "\n",
    "# Deixar a sua string tudo em caixa alta eh so usar o metodo upper():\n",
    "print(minha_string.upper())\n",
    "\n",
    "# ou pode ser deste jeito\n",
    "print('Isto é uma string!'.upper())"
   ]
  },
  {
   "cell_type": "markdown",
   "metadata": {},
   "source": [
    "Existem muitos outros métodos de string. Por exemplo, se você quiser que tudo fique em letras minúsculas, use o método <b>lower()</b>. Se você quiser remover todos os espaços em branco à esquerda e à direita, use <b>strip()</b>. Para obter uma lista de todos os métodos de string, você pode usar a função <b>dir</b> integrada do Python. Vamos ver isso em ação"
   ]
  },
  {
   "cell_type": "code",
   "execution_count": 3,
   "metadata": {},
   "outputs": [
    {
     "name": "stdout",
     "output_type": "stream",
     "text": [
      "['__add__', '__class__', '__contains__', '__delattr__', '__dir__', '__doc__', '__eq__', '__format__', '__ge__', '__getattribute__', '__getitem__', '__getnewargs__', '__gt__', '__hash__', '__init__', '__init_subclass__', '__iter__', '__le__', '__len__', '__lt__', '__mod__', '__mul__', '__ne__', '__new__', '__reduce__', '__reduce_ex__', '__repr__', '__rmod__', '__rmul__', '__setattr__', '__sizeof__', '__str__', '__subclasshook__', 'capitalize', 'casefold', 'center', 'count', 'encode', 'endswith', 'expandtabs', 'find', 'format', 'format_map', 'index', 'isalnum', 'isalpha', 'isascii', 'isdecimal', 'isdigit', 'isidentifier', 'islower', 'isnumeric', 'isprintable', 'isspace', 'istitle', 'isupper', 'join', 'ljust', 'lower', 'lstrip', 'maketrans', 'partition', 'replace', 'rfind', 'rindex', 'rjust', 'rpartition', 'rsplit', 'rstrip', 'split', 'splitlines', 'startswith', 'strip', 'swapcase', 'title', 'translate', 'upper', 'zfill']\n"
     ]
    }
   ],
   "source": [
    "minha_string = \"Isto é uma string!\"\n",
    "print(dir(minha_string))"
   ]
  },
  {
   "cell_type": "markdown",
   "metadata": {},
   "source": [
    "Você pode ignorar com segurança os métodos que começam e terminam com sublinhados duplos, como __add__. Eles não são usados na codificação diária do Python. Em vez disso, concentre-se nos outros. Se você gostaria de saber o que um deles faz, basta pedir <b>help</b>. Por exemplo, digamos que você queira aprender para que serve a <b>capitalize</b>. Para descobrir, você digitaria"
   ]
  },
  {
   "cell_type": "code",
   "execution_count": 5,
   "metadata": {},
   "outputs": [
    {
     "name": "stdout",
     "output_type": "stream",
     "text": [
      "Help on built-in function capitalize:\n",
      "\n",
      "capitalize() method of builtins.str instance\n",
      "    Return a capitalized version of the string.\n",
      "    \n",
      "    More specifically, make the first character have upper case and the rest lower\n",
      "    case.\n",
      "\n",
      "None\n"
     ]
    }
   ],
   "source": [
    "minha_string = \"Isto é uma string!\"\n",
    "print(help(minha_string.capitalize))"
   ]
  },
  {
   "cell_type": "markdown",
   "metadata": {},
   "source": [
    "Você acabou de aprender um pouco sobre um tópico chamado introspecção. Python permite uma fácil introspecção de todos os seus objetos, o que o torna muito fácil de usar. Basicamente, a introspecção permite que você pergunte ao Python sobre si mesmo. Você deve estar se perguntando como saber de que tipo era a variável (ou seja, um int ou uma string). Você pode pedir ao Python para lhe dizer isso! Como você pode ver, a variável minha_string é do tipo str!"
   ]
  },
  {
   "cell_type": "code",
   "execution_count": 7,
   "metadata": {},
   "outputs": [
    {
     "name": "stdout",
     "output_type": "stream",
     "text": [
      "<class 'str'>\n"
     ]
    }
   ],
   "source": [
    "minha_string = \"Isto é uma string!\"\n",
    "print(type(minha_string))"
   ]
  },
  {
   "cell_type": "code",
   "execution_count": 1,
   "metadata": {},
   "outputs": [
    {
     "output_type": "stream",
     "name": "stdout",
     "text": [
      "16\n"
     ]
    }
   ],
   "source": [
    "# len()\n",
    "var = \"Estudando Python\"\n",
    "print(len(var))"
   ]
  },
  {
   "cell_type": "code",
   "execution_count": 4,
   "metadata": {},
   "outputs": [
    {
     "output_type": "stream",
     "name": "stdout",
     "text": [
      "Angola\n"
     ]
    },
    {
     "output_type": "execute_result",
     "data": {
      "text/plain": [
       "'Angola'"
      ]
     },
     "metadata": {},
     "execution_count": 4
    }
   ],
   "source": [
    "# capitalize()\n",
    "a = \"Angola\"\n",
    "a.capitalize()\n",
    "\n",
    "\n",
    "# usando o método tradicional\n",
    "print(a)\n",
    "# dentro do jupyter notebook podemos ver algums variáveis deste jeito\n",
    "a"
   ]
  },
  {
   "cell_type": "code",
   "execution_count": 6,
   "metadata": {},
   "outputs": [
    {
     "output_type": "stream",
     "name": "stdout",
     "text": [
      "4\n"
     ]
    },
    {
     "output_type": "execute_result",
     "data": {
      "text/plain": [
       "4"
      ]
     },
     "metadata": {},
     "execution_count": 6
    }
   ],
   "source": [
    "# count()\n",
    "dedo = 'O dedo do sabalo doi'\n",
    "\n",
    "print(dedo.count('o'))\n",
    "# ou\n",
    "dedo.count('o')"
   ]
  },
  {
   "cell_type": "code",
   "execution_count": 7,
   "metadata": {},
   "outputs": [
    {
     "output_type": "execute_result",
     "data": {
      "text/plain": [
       "True"
      ]
     },
     "metadata": {},
     "execution_count": 7
    }
   ],
   "source": [
    "# startswith()\n",
    "c = \"Rainha\"\n",
    "c.startswith(\"Ra\")"
   ]
  },
  {
   "cell_type": "code",
   "execution_count": 8,
   "metadata": {},
   "outputs": [
    {
     "output_type": "execute_result",
     "data": {
      "text/plain": [
       "False"
      ]
     },
     "metadata": {},
     "execution_count": 8
    }
   ],
   "source": [
    "# endswith()\n",
    "d = \"Rainha\"\n",
    "d.endswith(\"Ra\")"
   ]
  },
  {
   "cell_type": "code",
   "execution_count": 9,
   "metadata": {},
   "outputs": [
    {
     "output_type": "execute_result",
     "data": {
      "text/plain": [
       "False"
      ]
     },
     "metadata": {},
     "execution_count": 9
    }
   ],
   "source": [
    "# isalnum()\n",
    "e = \"!@#$%\"\n",
    "e.isalnum()"
   ]
  },
  {
   "cell_type": "code",
   "execution_count": 10,
   "metadata": {},
   "outputs": [
    {
     "output_type": "execute_result",
     "data": {
      "text/plain": [
       "True"
      ]
     },
     "metadata": {},
     "execution_count": 10
    }
   ],
   "source": [
    "# isalpha()\n",
    "f = \"Python\"\n",
    "f.isalpha()"
   ]
  },
  {
   "cell_type": "code",
   "execution_count": 11,
   "metadata": {},
   "outputs": [
    {
     "output_type": "execute_result",
     "data": {
      "text/plain": [
       "False"
      ]
     },
     "metadata": {},
     "execution_count": 11
    }
   ],
   "source": [
    "# islower() \n",
    "var2 = 'Somos de ANGOLA'\n",
    "\n",
    "var2.islower()"
   ]
  },
  {
   "cell_type": "code",
   "execution_count": 12,
   "metadata": {},
   "outputs": [
    {
     "output_type": "execute_result",
     "data": {
      "text/plain": [
       "True"
      ]
     },
     "metadata": {},
     "execution_count": 12
    }
   ],
   "source": [
    "# isupper()\n",
    "var3 = 'SOMOS DE ANGOLA'\n",
    "\n",
    "var3.isupper()"
   ]
  },
  {
   "cell_type": "code",
   "execution_count": 13,
   "metadata": {},
   "outputs": [
    {
     "output_type": "execute_result",
     "data": {
      "text/plain": [
       "'somos de angola'"
      ]
     },
     "metadata": {},
     "execution_count": 13
    }
   ],
   "source": [
    "#lower()\n",
    "var4 = 'Somos de ANGOLA'\n",
    "\n",
    "var4.lower()"
   ]
  },
  {
   "cell_type": "code",
   "execution_count": 14,
   "metadata": {},
   "outputs": [
    {
     "output_type": "execute_result",
     "data": {
      "text/plain": [
       "'SOMOS DE ANGOLA'"
      ]
     },
     "metadata": {},
     "execution_count": 14
    }
   ],
   "source": [
    "#upper()\n",
    "var5 = 'Somos de ANGOLA'\n",
    "\n",
    "var5.upper()"
   ]
  },
  {
   "cell_type": "code",
   "execution_count": 15,
   "metadata": {},
   "outputs": [
    {
     "output_type": "execute_result",
     "data": {
      "text/plain": [
       "'aNGOLA'"
      ]
     },
     "metadata": {},
     "execution_count": 15
    }
   ],
   "source": [
    "#swapcase()\n",
    "var6 = 'Angola'\n",
    "\n",
    "var6.swapcase()"
   ]
  },
  {
   "cell_type": "code",
   "execution_count": 16,
   "metadata": {},
   "outputs": [
    {
     "output_type": "execute_result",
     "data": {
      "text/plain": [
       "'O Dedo Do Sabalo Doi'"
      ]
     },
     "metadata": {},
     "execution_count": 16
    }
   ],
   "source": [
    "# title()\n",
    "var7 = \"o dedo do sabalo doi\"\n",
    "var7.title()"
   ]
  },
  {
   "cell_type": "code",
   "execution_count": 17,
   "metadata": {},
   "outputs": [
    {
     "output_type": "stream",
     "name": "stdout",
     "text": [
      "['Cana', 'de', 'açúcar']\n"
     ]
    }
   ],
   "source": [
    "# split() \n",
    "cana = \"Cana de açúcar\"\n",
    "print(cana.split())"
   ]
  },
  {
   "cell_type": "code",
   "execution_count": 18,
   "metadata": {},
   "outputs": [
    {
     "output_type": "execute_result",
     "data": {
      "text/plain": [
       "'o dedo do sabalo está curado'"
      ]
     },
     "metadata": {},
     "execution_count": 18
    }
   ],
   "source": [
    "#replace(S1, S2)\n",
    "\n",
    "var8 = \"o dedo do sabalo doi\"\n",
    "var8.replace('doi', 'está curado')"
   ]
  },
  {
   "cell_type": "code",
   "execution_count": 22,
   "metadata": {},
   "outputs": [
    {
     "output_type": "execute_result",
     "data": {
      "text/plain": [
       "2"
      ]
     },
     "metadata": {},
     "execution_count": 22
    }
   ],
   "source": [
    "# find()\n",
    "\n",
    "var9 = \"o dedo do sabalo doi\"\n",
    "var9.find('d')"
   ]
  },
  {
   "cell_type": "code",
   "execution_count": 25,
   "metadata": {},
   "outputs": [
    {
     "output_type": "execute_result",
     "data": {
      "text/plain": [
       "' Musseques     '"
      ]
     },
     "metadata": {},
     "execution_count": 25
    }
   ],
   "source": [
    "p = \" Musseques\"\n",
    "p.ljust(15)"
   ]
  },
  {
   "cell_type": "code",
   "execution_count": 26,
   "metadata": {},
   "outputs": [
    {
     "output_type": "execute_result",
     "data": {
      "text/plain": [
       "'       Colombos'"
      ]
     },
     "metadata": {},
     "execution_count": 26
    }
   ],
   "source": [
    "# rjust()\n",
    "\n",
    "q = \"Colombos\"\n",
    "q.rjust(15)"
   ]
  },
  {
   "cell_type": "code",
   "execution_count": 32,
   "metadata": {},
   "outputs": [
    {
     "output_type": "execute_result",
     "data": {
      "text/plain": [
       "'  Python  '"
      ]
     },
     "metadata": {},
     "execution_count": 32
    }
   ],
   "source": [
    "# center()\n",
    "\n",
    "r = \"Python\"\n",
    "r.center(10)"
   ]
  },
  {
   "cell_type": "code",
   "execution_count": 33,
   "metadata": {},
   "outputs": [
    {
     "output_type": "execute_result",
     "data": {
      "text/plain": [
       "'Python '"
      ]
     },
     "metadata": {},
     "execution_count": 33
    }
   ],
   "source": [
    "# lstrip()\n",
    "s = \" Python \"\n",
    "s.lstrip()"
   ]
  },
  {
   "cell_type": "code",
   "execution_count": 35,
   "metadata": {},
   "outputs": [
    {
     "output_type": "execute_result",
     "data": {
      "text/plain": [
       "' Python'"
      ]
     },
     "metadata": {},
     "execution_count": 35
    }
   ],
   "source": [
    "# rstrip()\n",
    "\n",
    "t = \" Python \"\n",
    "t.rstrip()"
   ]
  },
  {
   "cell_type": "code",
   "execution_count": 37,
   "metadata": {},
   "outputs": [
    {
     "output_type": "execute_result",
     "data": {
      "text/plain": [
       "'o dedo do sabalo doi'"
      ]
     },
     "metadata": {},
     "execution_count": 37
    }
   ],
   "source": [
    "# strip()\n",
    "\n",
    "var10 = \"         o dedo do sabalo doi \"\n",
    "var10.strip()"
   ]
  }
 ],
 "metadata": {
  "kernelspec": {
   "display_name": "Python 3",
   "language": "python",
   "name": "python3"
  },
  "language_info": {
   "codemirror_mode": {
    "name": "ipython",
    "version": 3
   },
   "file_extension": ".py",
   "mimetype": "text/x-python",
   "name": "python",
   "nbconvert_exporter": "python",
   "pygments_lexer": "ipython3",
   "version": "3.8.5-final"
  }
 },
 "nbformat": 4,
 "nbformat_minor": 4
}