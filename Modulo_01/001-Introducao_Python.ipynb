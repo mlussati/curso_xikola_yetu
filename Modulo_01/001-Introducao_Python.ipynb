{
 "metadata": {
  "language_info": {
   "codemirror_mode": {
    "name": "ipython",
    "version": 3
   },
   "file_extension": ".py",
   "mimetype": "text/x-python",
   "name": "python",
   "nbconvert_exporter": "python",
   "pygments_lexer": "ipython3",
   "version": "3.8.5-final"
  },
  "orig_nbformat": 2,
  "kernelspec": {
   "name": "python3",
   "display_name": "Python 3",
   "language": "python"
  }
 },
 "nbformat": 4,
 "nbformat_minor": 2,
 "cells": [
  {
   "source": [
    "<center> Python </center> \n",
    "\n",
    "Python é uma linguagen de programacão interpretada de alto nível e que suporta diversos paradigmas de programação: orientado a abjecto, funcional, imperativo. É uma linguagem com tipagem dinâmica forte, escopo léxico e gerenciamento automático de memoria. \n",
    "\n",
    "Por ter uma sintaxe bastante simples cuja a escrita se aproxima bastante a linguagem humana por este motivo pode ser aprendida rapidamente. \n",
    "\n",
    "Esta linguagen tem una característica não muito comum, que é o uso de identação como forma de definição de blocos de codigo. A Comunidade Python preza multo pela legibilidade do código e possuí dois elementos que reforçam ainda mais essa questão: PEP-8 e The Zen of Python. O <a href=\"https://www.python.org/dev/peps/pep-e088/\">PEP-8</a> é um guia de estilos de código Python que é amplamente empregado e existem diversas ferramentas para checá-lo automaticamente, O <a href=\"https://an.python.org/dev/peps/pep-e028/\">The Zen of Python</a> é um pequeno texto que fala muito sobre o estilo de programação en Python."
   ],
   "cell_type": "markdown",
   "metadata": {}
  },
  {
   "source": [
    " ## Como funciona? \n",
    " \n",
    "Apesar de ser uma linguagem de programação interpretada, existe um processo de compilação transparente que transforma o código texto em bytecode que por sua vez é interpretado por uma virtual machine (VM). Esta linguaen permite que você desenvolva scripts ou você pode utilizar um modo interativo. Neste curso nós vamos trabalhar com scripts, normalmente para desenvolver seus scripts você vai usar um editor de texto (IDE) e após executar e chamar o interpretador Python que vai compilar exibir os estados (resultados) na tela. Nós vamos utilizar o jupyter notebook ou vscode para este curso. Mas por questão de praticidade talvez cheque outras IDE's se você esta conseguindo visualizar este documento quer dizer que provavelmente você já tem uma IDE para começar o curso. Usa o IDE que se sentir confortável desde que você consiga acompanhar as aulas. \n",
    "\n",
    "- Extensão python: nome arquivo.py\n",
    "Para executar um arquivo .py você precisa abrir o seu prompt de comando você encontrara ele digitando o seu botão windows e digitar (cmd) ou (prompt de comando). Lembrando que ao fazer isso você precisa estar dentro da pasta do projeto ou script que você está executando. \n",
    "\n",
    "Passo 1: Abrir o cmd\n",
    "\n",
    "\n",
    "<img src=\"https://uploaddeimagens.com.br/images/003/050/653/full/passo_cmd.png?1611524511\"/>\n",
    "\n",
    "Passo 2: Caminhar até a pasta onde você está executando o curso você pode chegar lá da seguinte maneira, dentro da pasta que se encontra os arquivos (scripts) do curso você pode recuperar o caminho aqui, e depois copiar para o cmd o mesmo (ctrl C, ctrl V):\n",
    "\n",
    "<img src=\"https://uploaddeimagens.com.br/images/003/050/657/full/path.png?1611524815\"/>\n",
    "\n",
    "Passo 3: Executar o comando <b>python nome_arquivo.py</b> e depois pressionar a tecla Enter para ver o resultado do seu script:\n",
    "\n",
    "<img src=\"https://uploaddeimagens.com.br/images/003/050/665/full/passo_cmd.png?1611525322\"/>\n",
    "\n",
    "\n"
   ],
   "cell_type": "markdown",
   "metadata": {}
  },
  {
   "source": [
    "Este arquivo foi digitado em um editor de texto chamado sublime vamos ao passo a passo de como executa-lo? e criar?\n",
    "\n",
    "Passo 1 - Você tem que ter instalado o sublime na sua máquina coisa que foi explicado e providenciado no modulo passado você vai abrir-lo:\n",
    "\n",
    "<img src=\"https://uploaddeimagens.com.br/images/003/050/677/full/passo1_sublime.png?1611526868\"/>\n",
    "\n",
    "Passo 2: Salvar o arquivo:\n",
    "\n",
    "<img src=\"https://uploaddeimagens.com.br/images/003/050/678/original/passo2.1_sublime.png?1611526882\"/>\n",
    "\n",
    "<img src=\"https://uploaddeimagens.com.br/images/003/050/679/original/passo2_sublime.png?1611526895\"/>\n",
    "\n",
    "\n",
    "Passo 3: Para executar ou ver a saida dentro do sublime basta digitar: No windows: ctrl + B, Mac/Linux command + B\n",
    "\n",
    "<img src=\"https://uploaddeimagens.com.br/images/003/050/680/original/passo3_sublime.png?1611526907\"/>\n",
    "\n",
    "\n",
    "\n",
    "- Extensão notebook: nome_arquivo.1pynb\n",
    "\n",
    "Para executar dentro do notebook basta fazer os seguintes passos na próxima celula."
   ],
   "cell_type": "markdown",
   "metadata": {}
  },
  {
   "cell_type": "code",
   "execution_count": 1,
   "metadata": {},
   "outputs": [
    {
     "output_type": "stream",
     "name": "stdout",
     "text": [
      "Ola mundo\n"
     ]
    }
   ],
   "source": [
    "print(\"Ola mundo\")"
   ]
  },
  {
   "cell_type": "code",
   "execution_count": null,
   "metadata": {},
   "outputs": [],
   "source": []
  }
 ]
}