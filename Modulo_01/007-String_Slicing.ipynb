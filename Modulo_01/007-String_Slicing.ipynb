{
 "cells": [
  {
   "cell_type": "markdown",
   "metadata": {},
   "source": [
    "# <center> String Slicing </center>\n",
    "\n",
    "O Slicing é uma ferramenta usada para extrair apenas uma parte dos elementos de uma string, retorna uma string com os elementos das posições do limite inferior até o limite superior 1. E é uma coisa que você fará muito no mundo real é o string slicing. Tenho ficado surpreso com a freqüência com que preciso saber como fazer isso no meu trabalho no dia-a-dia. Vamos dar uma olhada em como o slicing funciona com a seguinte string:\n",
    "Nome_String [Limite_Inferior : Limite_Superior]"
   ]
  },
  {
   "cell_type": "code",
   "execution_count": 1,
   "metadata": {},
   "outputs": [],
   "source": [
    "minha_string =\"Eu gosto de Python!\""
   ]
  },
  {
   "cell_type": "markdown",
   "metadata": {},
   "source": [
    "Cada caractere em uma string pode ser acessado usando slicing. Por exemplo, se eu quiser pegar apenas o primeiro caractere, posso fazer o seguinte:"
   ]
  },
  {
   "cell_type": "code",
   "execution_count": 2,
   "metadata": {},
   "outputs": [
    {
     "name": "stdout",
     "output_type": "stream",
     "text": [
      "E\n"
     ]
    }
   ],
   "source": [
    "minha_string = \"Eu gosto de Python!\"\n",
    "print(minha_string[0:1])"
   ]
  },
  {
   "cell_type": "markdown",
   "metadata": {},
   "source": [
    "Isso captura o primeiro caractere da string até, mas não incluindo, o segundo caractere. Sim, Python é baseado em zero. É um pouco mais fácil de entender se mapearmos a posição de cada valor em uma tabela:\n",
    "<img src=\"https://uploaddeimagens.com.br/images/002/916/609/full/index2.png?1602529206\" width=\"400\" height=\"80\"> <br>\n",
    "Portanto, temos uma string de 18 caracteres, começando em zero e indo até ao dezessete. Vamos fazer mais alguns exemplos para colocar esses conceitos em nossas cabeças."
   ]
  },
  {
   "cell_type": "code",
   "execution_count": 4,
   "metadata": {},
   "outputs": [
    {
     "name": "stdout",
     "output_type": "stream",
     "text": [
      "Eu\n",
      "Eu gosto de Pyth\n",
      "Eu gosto de Pytho\n",
      "Eu gosto de Python\n",
      "Eu gosto de Py\n",
      "Eu gosto de Python!\n",
      " gosto de Python!\n"
     ]
    }
   ],
   "source": [
    "minha_string = \"Eu gosto de Python!\"\n",
    "print(minha_string[:2])\n",
    "print(minha_string[0:16])\n",
    "print(minha_string[0:17])\n",
    "print(minha_string[0:18])\n",
    "print(minha_string[0:-5])\n",
    "print(minha_string[:])\n",
    "print(minha_string[2:])"
   ]
  },
  {
   "cell_type": "markdown",
   "metadata": {},
   "source": [
    "Como você pode ver nesses exemplos, podemos fazer uma fatia apenas especificando o início da fatia (ou seja, minha_string [2:]), o final da fatia (ou seja, minha_string [: 1]) ou ambos (ou seja, minha_string [0 : 18]). Podemos até usar valores negativos que começam no final da string. Portanto, o exemplo em que fizemos my_string [0: -5] começa em zero, mas termina 5 caracteres antes do final da string. <br> Você pode estar se perguntando onde você usaria isso. Eu me encontro usando-o para analisar registros de largura fixa em arquivos ou ocasionalmente para analisar nomes de arquivo complicados que seguem uma convenção de nomenclatura muito específica. Também o usei na análise de valores de arquivos de tipo binário. Qualquer trabalho em que seja necessário processar o arquivo de texto será facilitado se você compreender o fatiamento e como usá-lo de forma eficaz. Você também pode acessar caracteres individuais em uma string por meio da indexação. Aqui está um exemplo:\n"
   ]
  },
  {
   "cell_type": "code",
   "execution_count": 1,
   "metadata": {},
   "outputs": [
    {
     "output_type": "error",
     "ename": "NameError",
     "evalue": "name 'minha_string' is not defined",
     "traceback": [
      "\u001b[1;31m---------------------------------------------------------------------------\u001b[0m",
      "\u001b[1;31mNameError\u001b[0m                                 Traceback (most recent call last)",
      "\u001b[1;32m<ipython-input-1-3556630a34c7>\u001b[0m in \u001b[0;36m<module>\u001b[1;34m\u001b[0m\n\u001b[0;32m      1\u001b[0m \u001b[1;31m# Aqui eu não declarei novamente a minha variavel novamente\u001b[0m\u001b[1;33m\u001b[0m\u001b[1;33m\u001b[0m\u001b[1;33m\u001b[0m\u001b[0m\n\u001b[0;32m      2\u001b[0m \u001b[1;31m# Porque jupyter notebook já carregou essa variavel em sua memoria\u001b[0m\u001b[1;33m\u001b[0m\u001b[1;33m\u001b[0m\u001b[1;33m\u001b[0m\u001b[0m\n\u001b[1;32m----> 3\u001b[1;33m \u001b[0mprint\u001b[0m\u001b[1;33m(\u001b[0m\u001b[0mminha_string\u001b[0m\u001b[1;33m[\u001b[0m\u001b[1;36m0\u001b[0m\u001b[1;33m]\u001b[0m\u001b[1;33m)\u001b[0m\u001b[1;33m\u001b[0m\u001b[1;33m\u001b[0m\u001b[0m\n\u001b[0m\u001b[0;32m      4\u001b[0m \u001b[0mprint\u001b[0m\u001b[1;33m(\u001b[0m\u001b[0mminha_string\u001b[0m\u001b[1;33m[\u001b[0m\u001b[1;36m3\u001b[0m\u001b[1;33m]\u001b[0m\u001b[1;33m)\u001b[0m\u001b[1;33m\u001b[0m\u001b[1;33m\u001b[0m\u001b[0m\n\u001b[0;32m      5\u001b[0m \u001b[0mprint\u001b[0m\u001b[1;33m(\u001b[0m\u001b[0mminha_string\u001b[0m\u001b[1;33m[\u001b[0m\u001b[1;36m12\u001b[0m\u001b[1;33m]\u001b[0m\u001b[1;33m)\u001b[0m\u001b[1;33m\u001b[0m\u001b[1;33m\u001b[0m\u001b[0m\n",
      "\u001b[1;31mNameError\u001b[0m: name 'minha_string' is not defined"
     ]
    }
   ],
   "source": [
    "# Aqui eu não declarei novamente a minha variavel novamente\n",
    "# Porque jupyter notebook já carregou essa variavel em sua memoria \n",
    "print(minha_string[0])\n",
    "print(minha_string[3])\n",
    "print(minha_string[12])\n",
    "print(minha_string[100]) # gerara um erro, estamos a tentar acessar um index que não existe"
   ]
  },
  {
   "source": [
    "Por ser uma sequência, além do acesso por índices e slices, podemos executar outras operações como: a in b, se a está em b; a not in b, se a não está em b; a + c, concatenação de a com b; e a * b, b repetições de a."
   ],
   "cell_type": "markdown",
   "metadata": {}
  },
  {
   "cell_type": "code",
   "execution_count": 2,
   "metadata": {},
   "outputs": [
    {
     "output_type": "execute_result",
     "data": {
      "text/plain": [
       "True"
      ]
     },
     "metadata": {},
     "execution_count": 2
    }
   ],
   "source": [
    "\"A\" in \"Angola\""
   ]
  },
  {
   "cell_type": "code",
   "execution_count": 3,
   "metadata": {},
   "outputs": [
    {
     "output_type": "execute_result",
     "data": {
      "text/plain": [
       "True"
      ]
     },
     "metadata": {},
     "execution_count": 3
    }
   ],
   "source": [
    "\"ua\" in \"Luanda\""
   ]
  },
  {
   "cell_type": "code",
   "execution_count": 5,
   "metadata": {},
   "outputs": [
    {
     "output_type": "execute_result",
     "data": {
      "text/plain": [
       "'Luanda'"
      ]
     },
     "metadata": {},
     "execution_count": 5
    }
   ],
   "source": [
    "\"Lua\" + \"nda\""
   ]
  },
  {
   "cell_type": "code",
   "execution_count": 6,
   "metadata": {},
   "outputs": [
    {
     "output_type": "execute_result",
     "data": {
      "text/plain": [
       "'Luanda Luanda Luanda '"
      ]
     },
     "metadata": {},
     "execution_count": 6
    }
   ],
   "source": [
    "\"Luanda \" * 3"
   ]
  },
  {
   "source": [
    "## Imutabilidade das strings\n",
    "\n",
    "As strings são uns dos objetos imutáveis no python. Isso significa que elas têm um valor definido já desde a sua criação e que as novas sempre são criadas após operar elas. Vamos fazer um exemplo para poder provar se é possível mudar ou não algum valor dentro de uma string"
   ],
   "cell_type": "markdown",
   "metadata": {}
  },
  {
   "cell_type": "code",
   "execution_count": 9,
   "metadata": {},
   "outputs": [
    {
     "output_type": "error",
     "ename": "TypeError",
     "evalue": "'str' object does not support item assignment",
     "traceback": [
      "\u001b[1;31m---------------------------------------------------------------------------\u001b[0m",
      "\u001b[1;31mTypeError\u001b[0m                                 Traceback (most recent call last)",
      "\u001b[1;32m<ipython-input-9-d6d27d1d9fad>\u001b[0m in \u001b[0;36m<module>\u001b[1;34m\u001b[0m\n\u001b[0;32m      1\u001b[0m \u001b[0mminha_string\u001b[0m \u001b[1;33m=\u001b[0m \u001b[1;34m\"Eu gosto do livro 2\"\u001b[0m\u001b[1;33m\u001b[0m\u001b[1;33m\u001b[0m\u001b[0m\n\u001b[1;32m----> 2\u001b[1;33m \u001b[0mminha_string\u001b[0m\u001b[1;33m[\u001b[0m\u001b[1;36m18\u001b[0m\u001b[1;33m]\u001b[0m \u001b[1;33m=\u001b[0m \u001b[1;34m\"4\"\u001b[0m\u001b[1;33m\u001b[0m\u001b[1;33m\u001b[0m\u001b[0m\n\u001b[0m",
      "\u001b[1;31mTypeError\u001b[0m: 'str' object does not support item assignment"
     ]
    }
   ],
   "source": [
    "minha_string = \"Eu gosto do livro 2\"\n",
    "minha_string[18] = \"4\""
   ]
  },
  {
   "source": [
    "Uma forma de mudar algum valor dentro de uma string é deste jeito:"
   ],
   "cell_type": "markdown",
   "metadata": {}
  },
  {
   "cell_type": "code",
   "execution_count": 11,
   "metadata": {},
   "outputs": [
    {
     "output_type": "execute_result",
     "data": {
      "text/plain": [
       "'Eu gosto do livro 4'"
      ]
     },
     "metadata": {},
     "execution_count": 11
    }
   ],
   "source": [
    "minha_string = \"Eu gosto do livro 2\"\n",
    "minha_string = minha_string[0:18] + \"4\"\n",
    "minha_string"
   ]
  },
  {
   "cell_type": "code",
   "execution_count": 12,
   "metadata": {},
   "outputs": [
    {
     "output_type": "execute_result",
     "data": {
      "text/plain": [
       "'Eu gosto do livro 4'"
      ]
     },
     "metadata": {},
     "execution_count": 12
    }
   ],
   "source": [
    "minha_string = \"Eu gosto do livro 2\"\n",
    "minha_string = minha_string.replace(\"2\", \"4\")\n",
    "minha_string"
   ]
  },
  {
   "source": [
    "## Exercícios: \n",
    "1 - Considere a string A = \"Um elefante incomoda muita gente\" gente\". Que fatia corresponde a \"elefante in comoda\"?"
   ],
   "cell_type": "markdown",
   "metadata": {}
  },
  {
   "cell_type": "code",
   "execution_count": null,
   "metadata": {},
   "outputs": [],
   "source": []
  }
 ],
 "metadata": {
  "kernelspec": {
   "display_name": "Python 3",
   "language": "python",
   "name": "python3"
  },
  "language_info": {
   "codemirror_mode": {
    "name": "ipython",
    "version": 3
   },
   "file_extension": ".py",
   "mimetype": "text/x-python",
   "name": "python",
   "nbconvert_exporter": "python",
   "pygments_lexer": "ipython3",
   "version": "3.8.5-final"
  }
 },
 "nbformat": 4,
 "nbformat_minor": 4
}