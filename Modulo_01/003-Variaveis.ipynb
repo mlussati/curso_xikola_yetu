{
 "metadata": {
  "language_info": {
   "codemirror_mode": {
    "name": "ipython",
    "version": 3
   },
   "file_extension": ".py",
   "mimetype": "text/x-python",
   "name": "python",
   "nbconvert_exporter": "python",
   "pygments_lexer": "ipython3",
   "version": "3.8.5-final"
  },
  "orig_nbformat": 2,
  "kernelspec": {
   "name": "python3",
   "display_name": "Python 3",
   "language": "python"
  }
 },
 "nbformat": 4,
 "nbformat_minor": 2,
 "cells": [
  {
   "source": [
    "# Variáveis \n",
    "\n",
    "Variáveis são pequenos espaços de memória, que o interpretador usa para armazenar e manipular dados. em Python nós temos alguns tipos de dados básicos que são: Inteiro (armazena números inteiros), float (números em formato decimal), string (conjunto de caracteres). E um ponto de atenção devemos ter em mente que uma variável tem (pode) armazenar apenas um tipo de dado a cada instante. \n",
    "\n",
    "Em Python, diferente de outras linguagens de programação, não é preciso declarar o tipo que será cada variável no início do programa. Quando se faz uma atribuição de valor, automaticamente a variável se torna do tipo do valor armazenado, como vamos ver no exemplo abaixo:"
   ],
   "cell_type": "markdown",
   "metadata": {}
  },
  {
   "cell_type": "code",
   "execution_count": 3,
   "metadata": {},
   "outputs": [
    {
     "output_type": "execute_result",
     "data": {
      "text/plain": [
       "5"
      ]
     },
     "metadata": {},
     "execution_count": 3
    }
   ],
   "source": [
    "x = 5\n",
    "x # A variável x se torna uma variável do tipo inteiro."
   ]
  },
  {
   "cell_type": "code",
   "execution_count": 4,
   "metadata": {},
   "outputs": [
    {
     "output_type": "execute_result",
     "data": {
      "text/plain": [
       "5.8"
      ]
     },
     "metadata": {},
     "execution_count": 4
    }
   ],
   "source": [
    "y = 5.8\n",
    "y # A variável y se torna uma variável do tipo float."
   ]
  },
  {
   "cell_type": "code",
   "execution_count": 15,
   "metadata": {},
   "outputs": [
    {
     "output_type": "execute_result",
     "data": {
      "text/plain": [
       "'Olá Mundo'"
      ]
     },
     "metadata": {},
     "execution_count": 15
    }
   ],
   "source": [
    "minha_variavel = \"Olá Mundo\"\n",
    "minha_variavel # A variável minha_variavel se torna uma variável do tipo string."
   ]
  },
  {
   "cell_type": "code",
   "execution_count": 16,
   "metadata": {},
   "outputs": [
    {
     "output_type": "stream",
     "name": "stdout",
     "text": [
      "Olá Mundo\nOlá Mundo\nOlá Mundo\n"
     ]
    }
   ],
   "source": [
    "print(minha_variavel)\n",
    "print(minha_variavel)\n",
    "print(minha_variavel)"
   ]
  },
  {
   "source": [
    "A atribuição de valor para uma variável pode ser feita utilizando o comando input(), que solicita ao usuário o valor a ser atribuído à variável."
   ],
   "cell_type": "markdown",
   "metadata": {}
  },
  {
   "cell_type": "code",
   "execution_count": 6,
   "metadata": {},
   "outputs": [],
   "source": [
    "nome = input(\"Digite o seu nome: \")"
   ]
  },
  {
   "cell_type": "code",
   "execution_count": 7,
   "metadata": {},
   "outputs": [
    {
     "output_type": "execute_result",
     "data": {
      "text/plain": [
       "'Manilson'"
      ]
     },
     "metadata": {},
     "execution_count": 7
    }
   ],
   "source": [
    "nome"
   ]
  },
  {
   "source": [
    "O comando <b>input()</b>, sempre vai retornar uma string. Neste caso, para retornar dados do tipo inteiro ou float, é preciso converter o tipo do valor que foi lido. Por este motivo utiliza-se <b>int</b>(string) para converter para o tipo inteiro, ou <b>float</b>(string) para converter para o tipo float."
   ],
   "cell_type": "markdown",
   "metadata": {}
  },
  {
   "cell_type": "code",
   "execution_count": 8,
   "metadata": {},
   "outputs": [],
   "source": [
    "numb = int(input(\"Digite um numero: \"))"
   ]
  },
  {
   "cell_type": "code",
   "execution_count": 9,
   "metadata": {},
   "outputs": [
    {
     "output_type": "execute_result",
     "data": {
      "text/plain": [
       "200"
      ]
     },
     "metadata": {},
     "execution_count": 9
    }
   ],
   "source": [
    "numb"
   ]
  },
  {
   "cell_type": "code",
   "execution_count": 12,
   "metadata": {},
   "outputs": [],
   "source": [
    "alt = float(input(\"Digite a sua altura: \"))"
   ]
  },
  {
   "cell_type": "code",
   "execution_count": 13,
   "metadata": {},
   "outputs": [
    {
     "output_type": "execute_result",
     "data": {
      "text/plain": [
       "1.8"
      ]
     },
     "metadata": {},
     "execution_count": 13
    }
   ],
   "source": [
    "alt"
   ]
  },
  {
   "source": [
    "## Sintaxe\n",
    "\n",
    "Nome da variável não deve ter caracteres especiais e nem espaços. É case sensitive: Nome_da_variavel é diferente de nome_da_variavel. E para poder atribuir uma variavel devemos usar o (igual) =.\n",
    " \n",
    "Em Python, os nomes das variáveis devem ser inicia dos com uma letra, mas podem possuir outros tipos de caracteres como números e símbolos. O símbolo sublinha ( _ ) também é aceito no início de nomes de variáveis."
   ],
   "cell_type": "markdown",
   "metadata": {}
  },
  {
   "cell_type": "code",
   "execution_count": 17,
   "metadata": {},
   "outputs": [
    {
     "output_type": "stream",
     "name": "stdout",
     "text": [
      "1\n2.2\nEu sou uma lenda\nTrue\nFalse\n"
     ]
    }
   ],
   "source": [
    "var1 = 1 # variavel inteira\n",
    "var2 = 2.2 # variavel float\n",
    "var3 = \"Eu sou uma lenda\" # variavel string\n",
    "var4 = True # verdadeiro\n",
    "var5 = False # falso\n",
    "\n",
    "print(var1)\n",
    "print(var2)\n",
    "print(var3)\n",
    "print(var4)\n",
    "print(var5)"
   ]
  },
  {
   "cell_type": "code",
   "execution_count": null,
   "metadata": {},
   "outputs": [],
   "source": []
  }
 ]
}