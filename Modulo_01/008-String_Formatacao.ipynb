{
 "cells": [
  {
   "cell_type": "markdown",
   "metadata": {},
   "source": [
    "# <center>Formatação de String</center>\n",
    "\n",
    "A formatação de string (também conhecida como substituição) é o tópico de substituição de valores em uma string base. Na maioria das vezes, você estará inserindo strings dentro de strings; entretanto, você também irá inserir inteiros e flutuantes em strings com bastante frequência. Existem duas maneiras diferentes de realizar essa tarefa. Começaremos com a velha maneira de fazer as coisas e depois passaremos para a nova.\n",
    "\n",
    "### Velho modo de substituir strings: \n",
    "A maneira mais fácil de aprender como fazer isso é ver alguns exemplos:"
   ]
  },
  {
   "cell_type": "code",
   "execution_count": 5,
   "metadata": {},
   "outputs": [
    {
     "name": "stdout",
     "output_type": "stream",
     "text": [
      "Eu gosto de Python\n",
      "Eu gosto de Micate\n",
      "Eu gosto de Python e Micate\n"
     ]
    }
   ],
   "source": [
    "minha_string = \"Eu gosto de %s\" % \"Python\"\n",
    "print(minha_string)\n",
    "\n",
    "var = \"Micate\"\n",
    "nova_string = \"Eu gosto de %s\" % var \n",
    "print(nova_string)\n",
    "\n",
    "outra_string = \"Eu gosto de %s e %s\" % (\"Python\", var)\n",
    "print(outra_string)"
   ]
  },
  {
   "cell_type": "markdown",
   "metadata": {},
   "source": [
    "Como você provavelmente já deve ter adivinhado,%s é a parte importante do código acima. Diz ao Python que você pode inserir texto em breve. Se você seguir a string com um sinal de porcentagem e outra string ou variável, o Python tentará inseri-la na string. Você pode inserir várias strings, colocando várias instâncias de %s dentro de sua string. Você verá isso no último exemplo. Observe que, ao inserir mais de uma string, você deve colocar entre parênteses as strings que vai inserir. <br>\n",
    "Agora vamos ver o que acontece se não inserirmos strings suficientes:"
   ]
  },
  {
   "cell_type": "code",
   "execution_count": 7,
   "metadata": {},
   "outputs": [
    {
     "ename": "TypeError",
     "evalue": "not enough arguments for format string",
     "output_type": "error",
     "traceback": [
      "\u001b[0;31m---------------------------------------------------------------------------\u001b[0m",
      "\u001b[0;31mTypeError\u001b[0m                                 Traceback (most recent call last)",
      "\u001b[0;32m<ipython-input-7-10c5b1625af5>\u001b[0m in \u001b[0;36m<module>\u001b[0;34m\u001b[0m\n\u001b[0;32m----> 1\u001b[0;31m \u001b[0moutra_string\u001b[0m \u001b[0;34m=\u001b[0m \u001b[0;34m\"Eu gosto de %s e %s\"\u001b[0m \u001b[0;34m%\u001b[0m \u001b[0;34m\"Python\"\u001b[0m\u001b[0;34m\u001b[0m\u001b[0;34m\u001b[0m\u001b[0m\n\u001b[0m\u001b[1;32m      2\u001b[0m \u001b[0mprint\u001b[0m\u001b[0;34m(\u001b[0m\u001b[0moutra_string\u001b[0m\u001b[0;34m)\u001b[0m\u001b[0;34m\u001b[0m\u001b[0;34m\u001b[0m\u001b[0m\n\u001b[1;32m      3\u001b[0m \u001b[0;31m# TypeError: not enough arguments for format string\u001b[0m\u001b[0;34m\u001b[0m\u001b[0;34m\u001b[0m\u001b[0;34m\u001b[0m\u001b[0m\n",
      "\u001b[0;31mTypeError\u001b[0m: not enough arguments for format string"
     ]
    }
   ],
   "source": [
    "outra_string = \"Eu gosto de %s e %s\" % \"Python\"\n",
    "print(outra_string)\n",
    "# TypeError: not enough arguments for format string"
   ]
  },
  {
   "cell_type": "markdown",
   "metadata": {},
   "source": [
    "Ops! Não passamos argumentos suficientes para formatar a string! Se você olhar atentamente para o exemplo acima, verá que ele tem duas instâncias de %s, portanto, para inserir strings nele, você deve passar o mesmo número de strings! Agora estamos prontos para aprender sobre a inserção de inteiros e flutuantes. Vamos dar uma olhada!"
   ]
  },
  {
   "cell_type": "code",
   "execution_count": 8,
   "metadata": {},
   "outputs": [
    {
     "name": "stdout",
     "output_type": "stream",
     "text": [
      "1 + 2 = 3\n",
      "1.450000\n",
      "1.45\n",
      "1.46\n"
     ]
    }
   ],
   "source": [
    "minha_string = \"%i + %i = %i\" % (1,2,3)\n",
    "print(minha_string)\n",
    "\n",
    "float_string = \"%f\" % (1.45)\n",
    "print(float_string)\n",
    "\n",
    "float_string2 = \"%.2f\" % (1.45)\n",
    "print(float_string2)\n",
    "\n",
    "float_string3 = \"%.2f\" % (1.4558)\n",
    "print(float_string3)"
   ]
  },
  {
   "cell_type": "markdown",
   "metadata": {},
   "source": [
    "O primeiro exemplo acima é bastante óbvio. Criamos uma string que aceita três argumentos e passamos estes 3 paramêtros. Apenas no caso de você não ter descoberto ainda, não, Python não está realmente fazendo nenhuma adição no primeiro exemplo. No segundo exemplo, passamos um float. Observe que a saída inclui muitos zeros. Não queremos isso, então pedimos ao Python para limitar a duas casas decimais no terceiro exemplo (\"%.2f\"). O último exemplo mostra que o Python fará alguns arredondamentos para você se você passar um float maior do que duas casas decimais.<br>\n",
    "\n",
    "Agora vamos ver o que acontece se passarmos dados incorretos:"
   ]
  },
  {
   "cell_type": "code",
   "execution_count": 9,
   "metadata": {},
   "outputs": [
    {
     "ename": "TypeError",
     "evalue": "%i format: a number is required, not str",
     "output_type": "error",
     "traceback": [
      "\u001b[0;31m---------------------------------------------------------------------------\u001b[0m",
      "\u001b[0;31mTypeError\u001b[0m                                 Traceback (most recent call last)",
      "\u001b[0;32m<ipython-input-9-043836d471d6>\u001b[0m in \u001b[0;36m<module>\u001b[0;34m\u001b[0m\n\u001b[0;32m----> 1\u001b[0;31m \u001b[0mint_float_err\u001b[0m \u001b[0;34m=\u001b[0m \u001b[0;34m\"%i + %f\"\u001b[0m \u001b[0;34m%\u001b[0m \u001b[0;34m(\u001b[0m\u001b[0;34m\"1\"\u001b[0m\u001b[0;34m,\u001b[0m \u001b[0;34m\"2.00\"\u001b[0m\u001b[0;34m)\u001b[0m\u001b[0;34m\u001b[0m\u001b[0;34m\u001b[0m\u001b[0m\n\u001b[0m\u001b[1;32m      2\u001b[0m \u001b[0mprint\u001b[0m\u001b[0;34m(\u001b[0m\u001b[0mint_float_err\u001b[0m\u001b[0;34m)\u001b[0m\u001b[0;34m\u001b[0m\u001b[0;34m\u001b[0m\u001b[0m\n\u001b[1;32m      3\u001b[0m \u001b[0;31m# TypeError: %i format: a number is required, not str\u001b[0m\u001b[0;34m\u001b[0m\u001b[0;34m\u001b[0m\u001b[0;34m\u001b[0m\u001b[0m\n",
      "\u001b[0;31mTypeError\u001b[0m: %i format: a number is required, not str"
     ]
    }
   ],
   "source": [
    "int_float_err = \"%i + %f\" % (\"1\", \"2.00\")\n",
    "print(int_float_err)\n",
    "# TypeError: %i format: a number is required, not str"
   ]
  },
  {
   "cell_type": "markdown",
   "metadata": {},
   "source": [
    "Neste exemplo, passamos duas strings em vez de um inteiro e um float. Isso gera um TypeError e nos diz que o Python estava esperando um número. Isso se refere a não passar um número inteiro, então vamos corrigir isso e ver se isso resolve o problema:"
   ]
  },
  {
   "cell_type": "code",
   "execution_count": 11,
   "metadata": {},
   "outputs": [
    {
     "ename": "TypeError",
     "evalue": "must be real number, not str",
     "output_type": "error",
     "traceback": [
      "\u001b[0;31m---------------------------------------------------------------------------\u001b[0m",
      "\u001b[0;31mTypeError\u001b[0m                                 Traceback (most recent call last)",
      "\u001b[0;32m<ipython-input-11-e34fc71d1860>\u001b[0m in \u001b[0;36m<module>\u001b[0;34m\u001b[0m\n\u001b[0;32m----> 1\u001b[0;31m \u001b[0mint_float_err\u001b[0m \u001b[0;34m=\u001b[0m \u001b[0;34m\"%i + %f\"\u001b[0m \u001b[0;34m%\u001b[0m \u001b[0;34m(\u001b[0m\u001b[0;36m1\u001b[0m\u001b[0;34m,\u001b[0m \u001b[0;34m\"2.00\"\u001b[0m\u001b[0;34m)\u001b[0m\u001b[0;34m\u001b[0m\u001b[0;34m\u001b[0m\u001b[0m\n\u001b[0m\u001b[1;32m      2\u001b[0m \u001b[0mprint\u001b[0m\u001b[0;34m(\u001b[0m\u001b[0mint_float_err\u001b[0m\u001b[0;34m)\u001b[0m\u001b[0;34m\u001b[0m\u001b[0;34m\u001b[0m\u001b[0m\n\u001b[1;32m      3\u001b[0m \u001b[0;31m# TypeError: a float is required\u001b[0m\u001b[0;34m\u001b[0m\u001b[0;34m\u001b[0m\u001b[0;34m\u001b[0m\u001b[0m\n",
      "\u001b[0;31mTypeError\u001b[0m: must be real number, not str"
     ]
    }
   ],
   "source": [
    "int_float_err = \"%i + %f\" % (1, \"2.00\")\n",
    "print(int_float_err)\n",
    "# TypeError: a float is required"
   ]
  },
  {
   "cell_type": "markdown",
   "metadata": {},
   "source": [
    "Não. Recebemos o mesmo erro, mas uma mensagem diferente que nos diz que deveríamos ter passado um float. Como você pode ver, o Python nos fornece informações muito boas sobre o que deu errado e como consertar. Se você corrigir as entradas de forma apropriada, poderá fazer com que este exemplo seja executado. Vamos tentar:"
   ]
  },
  {
   "cell_type": "code",
   "execution_count": 12,
   "metadata": {},
   "outputs": [
    {
     "name": "stdout",
     "output_type": "stream",
     "text": [
      "1 + 2.000000\n"
     ]
    }
   ],
   "source": [
    "int_float_err = \"%i + %f\" % (1, 2.00)\n",
    "print(int_float_err)"
   ]
  },
  {
   "cell_type": "markdown",
   "metadata": {},
   "source": [
    "Vamos passar para o novo método de formatação de string! <b>Modelos e a nova metodologia de formatação de strings</b><br>\n",
    "Esse novo método foi adicionado de volta ao Python 2.4 como modelos de string, mas foi adicionado como um método de string regular por meio do método de formatação no Python 2.6. Portanto, não é realmente um método novo, apenas mais recente. De qualquer forma, vamos começar com os modelos!"
   ]
  },
  {
   "cell_type": "code",
   "execution_count": 17,
   "metadata": {},
   "outputs": [
    {
     "name": "stdout",
     "output_type": "stream",
     "text": [
      "Magoga daquela tia é fixe!\n"
     ]
    }
   ],
   "source": [
    "print(\"%(lang)s daquela tia é fixe!\" % {\"lang\":\"Magoga\"})"
   ]
  },
  {
   "cell_type": "markdown",
   "metadata": {},
   "source": [
    "Isso provavelmente parece muito estranho, mas basicamente mudamos nosso %s em %(lang), que é basicamente o %s com uma variável dentro dele. A segunda parte é, na verdade, chamada de dicionário Python, que estudaremos na próxima seção. Basicamente, é um par chave: valor, então quando o Python vê a chave \"lang\" na string E na chave do dicionário que é passado, ele substitui essa chave pelo seu valor. Vejamos mais alguns exemplos:"
   ]
  },
  {
   "cell_type": "code",
   "execution_count": 18,
   "metadata": {},
   "outputs": [
    {
     "name": "stdout",
     "output_type": "stream",
     "text": [
      "ANGOLA ANGOLA ANGOLA !\n"
     ]
    },
    {
     "ename": "KeyError",
     "evalue": "'z'",
     "output_type": "error",
     "traceback": [
      "\u001b[0;31m---------------------------------------------------------------------------\u001b[0m",
      "\u001b[0;31mKeyError\u001b[0m                                  Traceback (most recent call last)",
      "\u001b[0;32m<ipython-input-18-8f3dd7d5be82>\u001b[0m in \u001b[0;36m<module>\u001b[0;34m\u001b[0m\n\u001b[1;32m      1\u001b[0m \u001b[0mprint\u001b[0m\u001b[0;34m(\u001b[0m\u001b[0;34m\"%(value)s %(value)s %(value)s !\"\u001b[0m \u001b[0;34m%\u001b[0m \u001b[0;34m{\u001b[0m\u001b[0;34m\"value\"\u001b[0m\u001b[0;34m:\u001b[0m\u001b[0;34m\"ANGOLA\"\u001b[0m\u001b[0;34m}\u001b[0m\u001b[0;34m)\u001b[0m\u001b[0;34m\u001b[0m\u001b[0;34m\u001b[0m\u001b[0m\n\u001b[1;32m      2\u001b[0m \u001b[0;34m\u001b[0m\u001b[0m\n\u001b[0;32m----> 3\u001b[0;31m \u001b[0mprint\u001b[0m\u001b[0;34m(\u001b[0m\u001b[0;34m\"%(x)i + %(y)i = %(z)i\"\u001b[0m \u001b[0;34m%\u001b[0m \u001b[0;34m{\u001b[0m\u001b[0;34m\"x\"\u001b[0m\u001b[0;34m:\u001b[0m\u001b[0;36m1\u001b[0m\u001b[0;34m,\u001b[0m \u001b[0;34m\"y\"\u001b[0m\u001b[0;34m:\u001b[0m\u001b[0;36m2\u001b[0m\u001b[0;34m}\u001b[0m\u001b[0;34m)\u001b[0m\u001b[0;34m\u001b[0m\u001b[0;34m\u001b[0m\u001b[0m\n\u001b[0m\u001b[1;32m      4\u001b[0m \u001b[0;31m# KeyError: 'z'\u001b[0m\u001b[0;34m\u001b[0m\u001b[0;34m\u001b[0m\u001b[0;34m\u001b[0m\u001b[0m\n",
      "\u001b[0;31mKeyError\u001b[0m: 'z'"
     ]
    }
   ],
   "source": [
    "print(\"%(value)s %(value)s %(value)s !\" % {\"value\":\"ANGOLA\"})\n",
    "\n",
    "print(\"%(x)i + %(y)i = %(z)i\" % {\"x\":1, \"y\":2})\n",
    "# KeyError: 'z'"
   ]
  },
  {
   "cell_type": "markdown",
   "metadata": {},
   "source": [
    "No primeiro exemplo, você notará que passamos apenas um valor, mas ele foi inserido 3 vezes! Essa é uma das vantagens de usar modelos. O segundo exemplo tem um problema em que esquecemos de passar uma chave, ou seja, a chave “z”. Veja como vamos corrigir esse erro"
   ]
  },
  {
   "cell_type": "code",
   "execution_count": 19,
   "metadata": {},
   "outputs": [
    {
     "name": "stdout",
     "output_type": "stream",
     "text": [
      "1 + 2 = 3\n"
     ]
    }
   ],
   "source": [
    "print(\"%(x)i + %(y)i = %(z)i\" % {\"x\":1, \"y\":2, \"z\":3})"
   ]
  },
  {
   "cell_type": "markdown",
   "metadata": {},
   "source": [
    "Agora vamos ver como podemos fazer algo semelhante com o método de formatação da string!"
   ]
  },
  {
   "cell_type": "code",
   "execution_count": 22,
   "metadata": {},
   "outputs": [
    {
     "name": "stdout",
     "output_type": "stream",
     "text": [
      "Python é simples como a, b, c\n",
      "Python é simples como b, a, c\n",
      "Represente graficamente um ponto onde x=0 and y=10\n"
     ]
    }
   ],
   "source": [
    "print(\"Python é simples como {0}, {1}, {2}\".format(\"a\", \"b\", \"c\"))\n",
    "# 'Python is as simple as a, b, c'\n",
    "\n",
    "print(\"Python é simples como {1}, {0}, {2}\".format(\"a\", \"b\", \"c\"))\n",
    "# 'Python is as simple as b, a, c'\n",
    "\n",
    "xy = {\"x\":0, \"y\":10}\n",
    "print(\"Represente graficamente um ponto onde x={x} and y={y}\".format(**xy))\n",
    "# Graph a point at where x=0 and y=10"
   ]
  },
  {
   "cell_type": "markdown",
   "metadata": {},
   "source": [
    "Nos primeiros dois exemplos, você pode ver como podemos passar os itens posicionalmente. Se reorganizarmos a ordem, obteremos uma saída ligeiramente diferente. O último exemplo usa um dicionário como o que estávamos usando nos modelos acima. No entanto, temos que extrair o dicionário usando asterisco duplo para que funcione corretamente aqui. <br>\n",
    "Existem muitas outras coisas que você pode fazer com strings, como especificar a largura, alinhar o texto, converter para bases diferentes e muito mais. Certifique-se de dar uma olhada em algumas das referências abaixo para obter mais informações. <br> <a href=\"https://docs.python.org/3/library/functions.html#func-str\">Página oficial da documentação do python sobre o tipo str</a></br><a href=\"https://docs.python.org/3/library/string.html#string-formatting\">Formatação de String</a><br><a href=\"https://docs.python.org/3/library/string.html#formatexamples\">Aqui você encotra mais sobre formatação de string</a>\n"
   ]
  },
  {
   "cell_type": "code",
   "execution_count": null,
   "metadata": {},
   "outputs": [],
   "source": []
  }
 ],
 "metadata": {
  "kernelspec": {
   "display_name": "Python 3",
   "language": "python",
   "name": "python3"
  },
  "language_info": {
   "codemirror_mode": {
    "name": "ipython",
    "version": 3
   },
   "file_extension": ".py",
   "mimetype": "text/x-python",
   "name": "python",
   "nbconvert_exporter": "python",
   "pygments_lexer": "ipython3",
   "version": "3.8.1"
  }
 },
 "nbformat": 4,
 "nbformat_minor": 4
}
