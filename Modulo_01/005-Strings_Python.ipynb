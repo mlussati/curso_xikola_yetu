{
 "metadata": {
  "language_info": {
   "codemirror_mode": {
    "name": "ipython",
    "version": 3
   },
   "file_extension": ".py",
   "mimetype": "text/x-python",
   "name": "python",
   "nbconvert_exporter": "python",
   "pygments_lexer": "ipython3",
   "version": "3.8.5-final"
  },
  "orig_nbformat": 2,
  "kernelspec": {
   "name": "python3",
   "display_name": "Python 3",
   "language": "python"
  }
 },
 "nbformat": 4,
 "nbformat_minor": 2,
 "cells": [
  {
   "source": [
    "# <center>Strings em Python</center>\n",
    "\n",
    "Uma string é uma sequência de caracteres simples, um tipo (classe) fundamental em muitas linguagens. Em linguagens de alto nível que nem o python a manipulação de string é totalmente fácil. Python possui muitas conveniências na manipulação de strings que vamos entender melhor daqui para a frente.\n",
    "\n",
    "### Como criar uma string:\n",
    "\n",
    "As strings geralmente são criadas de três maneiras. Você pode usar aspas simples, duplas ou triplas. Vamos dar uma olhada!"
   ],
   "cell_type": "markdown",
   "metadata": {}
  },
  {
   "cell_type": "code",
   "execution_count": 1,
   "metadata": {},
   "outputs": [
    {
     "output_type": "stream",
     "name": "stdout",
     "text": [
      "Bem-Vindo ao Python!\nA palanca negra gigante representa Angola.\nIsto é um\nstring multilinha. Cobre mais de\numa linha\n"
     ]
    }
   ],
   "source": [
    "minha_string = \"Bem-Vindo ao Python!\"\n",
    "outra_string = 'A palanca negra gigante representa Angola.'\n",
    "string_longa = '''Isto é um\n",
    "string multilinha. Cobre mais de\n",
    "uma linha'''\n",
    "\n",
    "print(minha_string)\n",
    "print(outra_string)\n",
    "print(string_longa)"
   ]
  },
  {
   "source": [
    "A linha entre aspas triplas pode ser feita com três aspas simples ou três aspas duplas. De qualquer forma, eles permitem que o programador escreva strings em várias linhas. Se você imprimi-lo, notará que a saída mantém as quebras de linha. Se você precisar usar aspas simples em sua string, coloque-a entre aspas duplas. Veja o seguinte exemplo:"
   ],
   "cell_type": "markdown",
   "metadata": {}
  },
  {
   "cell_type": "code",
   "execution_count": 2,
   "metadata": {},
   "outputs": [
    {
     "output_type": "stream",
     "name": "stdout",
     "text": [
      "Eu sou um programador em python\nA palavra \"python\" geralmente se refere a uma cobra\nEsta é outra maneira de incorporar \"aspas\" em uma string\n"
     ]
    }
   ],
   "source": [
    "minha_string    = \"Eu sou um programador em python\"\n",
    "outra_string    = 'A palavra \"python\" geralmente se refere a uma cobra'\n",
    "terceira_string = \"\"\"Esta é outra maneira de incorporar \"aspas\" em uma string\"\"\"\n",
    "\n",
    "print(minha_string)\n",
    "print(outra_string)\n",
    "print(terceira_string)"
   ]
  },
  {
   "source": [
    "O código acima demonstra como você pode colocar aspas simples ou duplas em uma string. Na verdade, há uma outra maneira de criar uma string e é usando o método str. Funciona assim:"
   ],
   "cell_type": "markdown",
   "metadata": {}
  },
  {
   "cell_type": "code",
   "execution_count": 3,
   "metadata": {},
   "outputs": [
    {
     "output_type": "stream",
     "name": "stdout",
     "text": [
      "12345\n12345\n"
     ]
    }
   ],
   "source": [
    "meu_numero = 12345\n",
    "minha_string = str(meu_numero)\n",
    "\n",
    "print(meu_numero)\n",
    "print(minha_string)"
   ]
  },
  {
   "source": [
    "Se você executar o código acima, perceberá que transformou o valor inteiro em uma string e atribuiu a string à variável my_string. Você pode converter alguns tipos de dados em outros tipos de dados, como números em strings. Mas você também descobrirá que nem sempre pode fazer o inverso, como converter uma string como \"ABC\" em um número inteiro. Se você fizer isso, obterá um erro como o do exemplo a seguir:"
   ],
   "cell_type": "markdown",
   "metadata": {}
  },
  {
   "cell_type": "code",
   "execution_count": 6,
   "metadata": {},
   "outputs": [
    {
     "output_type": "error",
     "ename": "ValueError",
     "evalue": "invalid literal for int() with base 10: 'ABC'",
     "traceback": [
      "\u001b[1;31m---------------------------------------------------------------------------\u001b[0m",
      "\u001b[1;31mValueError\u001b[0m                                Traceback (most recent call last)",
      "\u001b[1;32m<ipython-input-6-9f8eda398053>\u001b[0m in \u001b[0;36m<module>\u001b[1;34m\u001b[0m\n\u001b[1;32m----> 1\u001b[1;33m \u001b[0mint\u001b[0m\u001b[1;33m(\u001b[0m\u001b[1;34m'ABC'\u001b[0m\u001b[1;33m)\u001b[0m\u001b[1;33m\u001b[0m\u001b[1;33m\u001b[0m\u001b[0m\n\u001b[0m",
      "\u001b[1;31mValueError\u001b[0m: invalid literal for int() with base 10: 'ABC'"
     ]
    }
   ],
   "source": [
    "int('ABC')"
   ]
  },
  {
   "source": [
    "Veremos o tratamento de exceções em um capítulo posterior, mas como você deve ter adivinhado pela mensagem, isso significa que você não pode converter uma letra em um inteiro. No entanto, se você tivesse feito"
   ],
   "cell_type": "markdown",
   "metadata": {}
  },
  {
   "cell_type": "code",
   "execution_count": 7,
   "metadata": {},
   "outputs": [
    {
     "output_type": "execute_result",
     "data": {
      "text/plain": [
       "123"
      ]
     },
     "metadata": {},
     "execution_count": 7
    }
   ],
   "source": [
    "X = int(\"123\")\n",
    "X"
   ]
  },
  {
   "source": [
    "Deve-se observar que uma string é um dos tipos imutáveis ​​do Python. O que isso significa é que você não pode alterar o conteúdo de uma string após a criação. Vamos tentar mudar um para ver o que acontece:"
   ],
   "cell_type": "markdown",
   "metadata": {}
  },
  {
   "cell_type": "code",
   "execution_count": 9,
   "metadata": {},
   "outputs": [
    {
     "output_type": "error",
     "ename": "TypeError",
     "evalue": "'str' object does not support item assignment",
     "traceback": [
      "\u001b[1;31m---------------------------------------------------------------------------\u001b[0m",
      "\u001b[1;31mTypeError\u001b[0m                                 Traceback (most recent call last)",
      "\u001b[1;32m<ipython-input-9-dc6b5565d38e>\u001b[0m in \u001b[0;36m<module>\u001b[1;34m\u001b[0m\n\u001b[0;32m      1\u001b[0m \u001b[0mminha_string\u001b[0m \u001b[1;33m=\u001b[0m \u001b[1;34m\"abc\"\u001b[0m\u001b[1;33m\u001b[0m\u001b[1;33m\u001b[0m\u001b[0m\n\u001b[1;32m----> 2\u001b[1;33m \u001b[0mminha_string\u001b[0m\u001b[1;33m[\u001b[0m\u001b[1;36m0\u001b[0m\u001b[1;33m]\u001b[0m \u001b[1;33m=\u001b[0m \u001b[1;34m\"d\"\u001b[0m\u001b[1;33m\u001b[0m\u001b[1;33m\u001b[0m\u001b[0m\n\u001b[0m\u001b[0;32m      3\u001b[0m \u001b[1;31m# TypeError: 'str' object does not support item assignment\u001b[0m\u001b[1;33m\u001b[0m\u001b[1;33m\u001b[0m\u001b[1;33m\u001b[0m\u001b[0m\n",
      "\u001b[1;31mTypeError\u001b[0m: 'str' object does not support item assignment"
     ]
    }
   ],
   "source": [
    "minha_string = \"abc\"\n",
    "minha_string[0] = \"d\"\n",
    "# TypeError: 'str' object does not support item assignment"
   ]
  },
  {
   "source": [
    "Aqui, tentamos mudar o primeiro caractere de um “a” para um “d”; no entanto, isso gera um TypeError que nos impede de fazer isso. Agora você pode pensar que, ao atribuir uma nova string à mesma variável, você mudou a string. Vamos ver se isso é verdade:"
   ],
   "cell_type": "markdown",
   "metadata": {}
  },
  {
   "cell_type": "code",
   "execution_count": 10,
   "metadata": {},
   "outputs": [
    {
     "output_type": "stream",
     "name": "stdout",
     "text": [
      "2365710903728\n2365742475760\n2365784119792\n"
     ]
    }
   ],
   "source": [
    "my_string = \"abc\"\n",
    "print(id(my_string)) # 140029410169552\n",
    "\n",
    "my_string = \"def\"\n",
    "print(id(my_string)) # 140029409549312\n",
    "\n",
    "my_string = my_string + \"ghi\"\n",
    "print(id(my_string)) # 140029409549200"
   ]
  },
  {
   "source": [
    "Ao verificar o id do objeto, podemos determinar que sempre que atribuímos um novo valor à variável, sua identidade muda."
   ],
   "cell_type": "markdown",
   "metadata": {}
  },
  {
   "source": [
    "Concatenação é uma palavra grande que significa combinar ou somar duas coisas. Neste caso, queremos saber como somar duas strings. O operador ‘+’ concatena as duas strings em uma. Como você pode suspeitar, essa operação é muito fácil em Python:"
   ],
   "cell_type": "markdown",
   "metadata": {}
  },
  {
   "cell_type": "code",
   "execution_count": 11,
   "metadata": {},
   "outputs": [
    {
     "output_type": "stream",
     "name": "stdout",
     "text": [
      "Meu cachorro \nestá em casa\nMeu cachorro está em casa\n"
     ]
    }
   ],
   "source": [
    "string_um = \"Meu cachorro \"\n",
    "string_dois = \"está em casa\"\n",
    "string_tres = string_um + string_dois\n",
    "\n",
    "print(string_um)\n",
    "print(string_dois)\n",
    "print(string_tres)"
   ]
  },
  {
   "cell_type": "code",
   "execution_count": 12,
   "metadata": {},
   "outputs": [
    {
     "output_type": "stream",
     "name": "stdout",
     "text": [
      "Help on built-in function capitalize:\n\ncapitalize() method of builtins.str instance\n    Return a capitalized version of the string.\n    \n    More specifically, make the first character have upper case and the rest lower\n    case.\n\nNone\n"
     ]
    }
   ],
   "source": [
    "my_string = \"This is a string!\"\n",
    "print(help(my_string.capitalize))"
   ]
  },
  {
   "cell_type": "code",
   "execution_count": 13,
   "metadata": {},
   "outputs": [
    {
     "output_type": "stream",
     "name": "stdout",
     "text": [
      "<class 'str'>\n"
     ]
    }
   ],
   "source": [
    "my_string = \"This is a string!\"\n",
    "print(type(my_string)) "
   ]
  },
  {
   "cell_type": "code",
   "execution_count": null,
   "metadata": {},
   "outputs": [],
   "source": []
  }
 ]
}