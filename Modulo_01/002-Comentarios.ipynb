{
 "metadata": {
  "language_info": {
   "codemirror_mode": {
    "name": "ipython",
    "version": 3
   },
   "file_extension": ".py",
   "mimetype": "text/x-python",
   "name": "python",
   "nbconvert_exporter": "python",
   "pygments_lexer": "ipython3",
   "version": "3.8.5-final"
  },
  "orig_nbformat": 2,
  "kernelspec": {
   "name": "python3",
   "display_name": "Python 3",
   "language": "python"
  }
 },
 "nbformat": 4,
 "nbformat_minor": 2,
 "cells": [
  {
   "source": [
    "# Comentários\n",
    "\n",
    "Todas as linhas elas são interpretadas e lidas pelo interpretador Python que vai executá-las mas se eu tiver uma mensagem uma forma de passar para o usuário o que certo comando ou linha ou bloco de código faz, fazemos isso usando <b>#</b> isso são os chamados comentários.\n",
    "Eles auxiliam na organização e explicação do código então são linhas de comando que não são processados pelo interpretador.\n",
    "\n",
    "São muito usados para:\n",
    "- Organização e explicação do código\n",
    "- Boa pratica de programação (ajuda muito quando alguém ou você mesmo estiver a revisar o seu próprio código)\n",
    "\n",
    "* Se você estiver trabalhando com string e o resultado sair não formatado (utilizando uma IDE) recomenda-se colocar a seguinte linha de código no topo do seu script:\n",
    "# -*- coding: utf-8 -*-\n"
   ],
   "cell_type": "markdown",
   "metadata": {}
  },
  {
   "cell_type": "code",
   "execution_count": 1,
   "metadata": {},
   "outputs": [
    {
     "output_type": "stream",
     "name": "stdout",
     "text": [
      "Ola Mundo!\nMeu novo comentario\n"
     ]
    }
   ],
   "source": [
    "# Essa linha eh um comentario\n",
    "print('Ola Mundo!')\n",
    "\n",
    "# Este também é um comentario\n",
    "print('Meu novo comentario')"
   ]
  },
  {
   "cell_type": "code",
   "execution_count": 2,
   "metadata": {},
   "outputs": [
    {
     "output_type": "stream",
     "name": "stdout",
     "text": [
      "mensagem\n"
     ]
    }
   ],
   "source": [
    "\"\"\"\n",
    "Comentarios \n",
    "de muitas linhas\n",
    "\"\"\"\n",
    "print(\"mensagem\")"
   ]
  },
  {
   "source": [],
   "cell_type": "markdown",
   "metadata": {}
  }
 ]
}